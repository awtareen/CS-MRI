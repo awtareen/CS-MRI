{
 "cells": [
  {
   "cell_type": "code",
   "execution_count": 1,
   "metadata": {
    "executionInfo": {
     "elapsed": 4993,
     "status": "ok",
     "timestamp": 1609846159176,
     "user": {
      "displayName": "W T",
      "photoUrl": "",
      "userId": "18193602041679892038"
     },
     "user_tz": -300
    },
    "id": "II3xqvnL0Ykk"
   },
   "outputs": [],
   "source": [
    "import os \n",
    "import torch\n",
    "import torch.nn as nn\n",
    "import torch.nn.functional as F\n",
    "import scipy.io as sio\n",
    "import numpy as np\n",
    "import os\n",
    "import glob\n",
    "from time import time\n",
    "import math\n",
    "from torch.nn import init\n",
    "import copy\n",
    "import cv2\n",
    "from skimage.metrics import structural_similarity as ssim\n",
    "from datetime import datetime\n",
    "\n",
    "from matplotlib.pyplot import imshow"
   ]
  },
  {
   "cell_type": "markdown",
   "metadata": {
    "id": "myiaJwrZovwL"
   },
   "source": [
    "## Input parameters"
   ]
  },
  {
   "cell_type": "code",
   "execution_count": 2,
   "metadata": {
    "executionInfo": {
     "elapsed": 596,
     "status": "ok",
     "timestamp": 1609846160451,
     "user": {
      "displayName": "W T",
      "photoUrl": "",
      "userId": "18193602041679892038"
     },
     "user_tz": -300
    },
    "id": "aUnSrNFX5gTX"
   },
   "outputs": [],
   "source": [
    "cs_ratio = 20\n",
    "epoch_num = 50\n",
    "###define mask\n",
    "mask_dir='sampling_matrix_istanet'\n",
    "mask_type='q1'   #q1 for DLMRi and od for outer dense\n",
    "##############\n",
    "layer_num = 9\n",
    "group_num =1\n",
    "learning_rate =1e-4"
   ]
  },
  {
   "cell_type": "code",
   "execution_count": 3,
   "metadata": {
    "colab": {
     "base_uri": "https://localhost:8080/",
     "height": 453
    },
    "executionInfo": {
     "elapsed": 1019,
     "status": "error",
     "timestamp": 1609846162768,
     "user": {
      "displayName": "W T",
      "photoUrl": "",
      "userId": "18193602041679892038"
     },
     "user_tz": -300
    },
    "id": "YjwOVOoy0-iG",
    "outputId": "379ce9b5-83e7-41c3-b2b5-f7d3be8a0d3b"
   },
   "outputs": [],
   "source": [
    "gpu_list = '0'\n",
    "test_name1 = 'kneeMR_test'\n",
    "test_name2 = 'brainMR_test'\n",
    "data_dir = 'data'\n",
    "img_size =256\n",
    "########\n",
    "os.environ[\"CUDA_DEVICE_ORDER\"] = \"PCI_BUS_ID\"\n",
    "os.environ[\"CUDA_VISIBLE_DEVICES\"] = gpu_list\n",
    "device = torch.device(\"cuda:0\" if torch.cuda.is_available() else \"cpu\")\n",
    "# Load CS Sampling Matrix: phi\n",
    "Phi_data_Name = './%s/mask_%d.mat'  %(mask_dir,cs_ratio)\n",
    "# Phi_data_Name = './%s/rand_%s_%d.mat'  %(mask_dir,mask_type,cs_ratio)\n",
    "#Phi_data_Name = './%s/mask_rand_%d.mat'  %(mask_dir,cs_ratio)\n",
    "Phi_data = sio.loadmat(Phi_data_Name)\n",
    "mask_matrix = Phi_data['mask_matrix']\n",
    "mask_matrix = torch.from_numpy(mask_matrix).type(torch.FloatTensor)\n",
    "mask = torch.unsqueeze(mask_matrix, 2)\n",
    "mask = torch.cat([mask, mask], 2)\n",
    "mask = mask.to(device)"
   ]
  },
  {
   "cell_type": "code",
   "execution_count": 4,
   "metadata": {
    "id": "Axr7si-s2tFO"
   },
   "outputs": [],
   "source": [
    "class FFT_Mask_ForBack(torch.nn.Module):\n",
    "    def __init__(self):\n",
    "        super(FFT_Mask_ForBack, self).__init__()\n",
    "    def forward(self, x, mask):\n",
    "        x_dim_0 = x.shape[0]\n",
    "        x_dim_1 = x.shape[1]\n",
    "        x_dim_2 = x.shape[2]\n",
    "        x_dim_3 = x.shape[3]\n",
    "        # print(x.shape)\n",
    "        x = x.view(-1, x_dim_2, x_dim_3, 1)\n",
    "        # x = torch.view_as_real(x)[:,:,:,:,0].cuda()\n",
    "        y = torch.zeros_like(x)\n",
    "        z = torch.cat([x, y], 3)\n",
    "        #fftz = torch.fft(z, 2)#take 2 D FFT\n",
    "        fftz = torch.fft.fftn(z)\n",
    "        #z_hat = torch.ifft(fftz * mask, 2)#multiply with mask and then take INVERS FFT\n",
    "        z_hat = torch.fft.ifftn(fftz * mask)\n",
    "        # imshow(mask[:,:,1].real.cpu().numpy())\n",
    "        x = z_hat[:, :, :, 0:1]\n",
    "        x = x.view(x_dim_0, x_dim_1, x_dim_2, x_dim_3)\n",
    "        # imshow(x[0,0,:,:].real.cpu().numpy())\n",
    "        # import pdb; pdb.set_trace()\n",
    "        return x\n",
    "# Define ISTA-Net-plus Block\n",
    "class BasicBlock(torch.nn.Module):\n",
    "    def __init__(self):\n",
    "        super(BasicBlock, self).__init__()\n",
    "        self.lambda_step = nn.Parameter(torch.Tensor([0.5]))\n",
    "        self.soft_thr = nn.Parameter(torch.Tensor([0.01]))\n",
    "        ################\n",
    "        self.W1 = nn.Parameter(init.xavier_normal_(torch.Tensor(32, 1, 3, 3)))\n",
    "        # self.W1 = self.W1.to(device)\n",
    "        self.conv1_forward = nn.Parameter(init.xavier_normal_(torch.Tensor(32, 32, 3, 3)))\n",
    "        self.conv2_forward = nn.Parameter(init.xavier_normal_(torch.Tensor(32, 32, 3, 3)))\n",
    "        self.conv1_backward = nn.Parameter(init.xavier_normal_(torch.Tensor(32, 32, 3, 3)))\n",
    "        self.conv2_backward = nn.Parameter(init.xavier_normal_(torch.Tensor(32, 32, 3, 3)))\n",
    "        self.conv_G = nn.Parameter(init.xavier_normal_(torch.Tensor(1, 32, 3, 3)))\n",
    "\n",
    "        self.c1 = nn.Parameter(torch.ones(1,1,1,1), requires_grad=True)\n",
    "        self.c2 = nn.Parameter(torch.ones(1,1,1,1), requires_grad=True)\n",
    "        self.c3 = nn.Parameter(torch.ones(1,1,1,1), requires_grad=True)        \n",
    "        self.b1 = nn.Parameter(torch.zeros(1,32,1,1), requires_grad=True)\n",
    "        self.b2 = nn.Parameter(torch.zeros(1,32,1,1), requires_grad=True)\n",
    "        self.b3 = nn.Parameter(torch.zeros(1,32,1,1), requires_grad=True)\n",
    "    def forward(self, x, fft_forback, PhiTb, mask):\n",
    "        if x.ndim > 4:\n",
    "            x = torch.view_as_complex(x)\n",
    "        if PhiTb.ndim > 4:\n",
    "            PhiTb =  torch.view_as_complex(PhiTb)\n",
    "        \n",
    "        x = x - self.lambda_step * fft_forback(x, mask)\n",
    "        x = x + self.lambda_step * PhiTb\n",
    "        \n",
    "        # x_input = torch.view_as_real(x)[:,:,:,:,0]\n",
    "        \n",
    "        # x_input = torch.view_as_real(x)[:,:,:,:,0].cuda()\n",
    "        x_input = x.real\n",
    "        gamma1 = F.conv2d(x_input, self.W1, padding=1)\n",
    "        gamma2 = self.c1*F.conv2d(gamma1, self.conv1_forward, padding=1)+self.b1\n",
    "        gamma2 = F.relu(gamma2)\n",
    "        gamma3 = F.conv2d(gamma2, self.conv2_forward, padding=1)\n",
    "        for _ in  range(1):            \n",
    "            # backward computation\n",
    "            gamma2 = F.conv_transpose2d(gamma3,self.conv2_forward,padding = 1)\n",
    "            gamma1 = F.conv_transpose2d(gamma2,self.conv1_forward,padding = 1)            \n",
    "            # forward computation\n",
    "            gamma1 = F.relu( (gamma1 - self.c1 * F.conv2d( F.conv_transpose2d(gamma1,self.W1,padding=1) - x_input ,self.W1,padding=1)) + self.b1)\n",
    "            gamma2 = F.relu( (gamma2 - self.c2 * F.conv2d( F.conv_transpose2d(gamma2,self.conv1_forward,padding=1) - gamma1, self.conv1_forward,padding=1)) + self.b2) \n",
    "            gamma3 = F.relu( (gamma3 - self.c3 * F.conv2d( F.conv_transpose2d(gamma3,self.conv2_forward,padding=1) - gamma2, self.conv2_forward,padding=1)) + self.b3) \n",
    "        gammaE = torch.mul(torch.sign(gamma3), F.relu(torch.abs(gamma3) - self.soft_thr))\n",
    "        gamma4 = F.conv2d(gammaE, self.conv1_backward, padding=1)\n",
    "        gamma4 = F.relu(gamma4)\n",
    "        gamma5 = F.conv2d(gamma4, self.conv2_backward, padding=1)\n",
    "        gamma6 = F.conv2d(gamma5, self.conv_G, padding=1)\n",
    "        x_pred = x_input + gamma6\n",
    "        x = F.conv2d(gamma3, self.conv1_backward, padding=1)\n",
    "        x = F.relu(x)\n",
    "        x_D_est = F.conv2d(x, self.conv2_backward, padding=1)\n",
    "        symloss = x_D_est - gamma1\n",
    "        return [x_pred, symloss]\n",
    "        #############\n",
    "# Define ISTA-Net-plus\n",
    "class ISTANetplus(torch.nn.Module):\n",
    "    def __init__(self, LayerNo):\n",
    "        super(ISTANetplus, self).__init__()\n",
    "        onelayer = []\n",
    "        self.LayerNo = LayerNo\n",
    "        self.fft_forback = FFT_Mask_ForBack()\n",
    "        for i in range(LayerNo):\n",
    "            onelayer.append(BasicBlock())\n",
    "        self.fcs = nn.ModuleList(onelayer)\n",
    "    def forward(self, PhiTb, mask):\n",
    "        x = PhiTb\n",
    "        layers_sym = []   # for computing symmetric loss\n",
    "        for i in range(self.LayerNo):\n",
    "            [x, layer_sym] = self.fcs[i](x, self.fft_forback, PhiTb, mask)\n",
    "            layers_sym.append(layer_sym)\n",
    "        x_final = x\n",
    "        return [x_final, layers_sym]\n",
    "model = ISTANetplus(layer_num)\n",
    "model = nn.DataParallel(model)\n",
    "model = model.to(device)"
   ]
  },
  {
   "cell_type": "markdown",
   "metadata": {
    "id": "iyqJE057Wujj"
   },
   "source": [
    "## Define file locations"
   ]
  },
  {
   "cell_type": "code",
   "execution_count": 5,
   "metadata": {
    "colab": {
     "base_uri": "https://localhost:8080/",
     "height": 246
    },
    "executionInfo": {
     "elapsed": 1087,
     "status": "error",
     "timestamp": 1609846122910,
     "user": {
      "displayName": "W T",
      "photoUrl": "",
      "userId": "18193602041679892038"
     },
     "user_tz": -300
    },
    "id": "I6nLlWgeWoKC",
    "outputId": "2edff0bb-3232-4f86-9e64-2ffbae0398b6"
   },
   "outputs": [
    {
     "name": "stdout",
     "output_type": "stream",
     "text": [
      "Images loaded=: 50\n"
     ]
    }
   ],
   "source": [
    "model_dir='model_dir_brain'\n",
    "log_dir='log_dir_brain'\n",
    "data_dir = './brain_images_istanet'\n",
    "result_dir='result_dir'\n",
    "#data_dir = './brain_images'\n",
    "result_dir = './result_dir'\n",
    "#test_dir = os.path.join(data_dir, test_name)\n",
    "filepaths = glob.glob(data_dir + '/*.png')\n",
    "result_dir = os.path.join(result_dir, test_name2)\n",
    "model_dir = \"./%s/MRI_CS_ISTA_Net_plus_layer_%d_group_%d_ratio_%d\" % (model_dir, layer_num, group_num, cs_ratio)\n",
    "\n",
    "# Load pre-trained model with epoch number\n",
    "model.load_state_dict(torch.load('%s/net_params_%d.pkl' % (model_dir, epoch_num)))\n",
    "\n",
    "def psnr(img1, img2):\n",
    "    img1.astype(np.float32)\n",
    "    img2.astype(np.float32)\n",
    "    mse = np.mean((img1 - img2) ** 2)\n",
    "    if mse == 0:\n",
    "        return 100\n",
    "    PIXEL_MAX = 255.0\n",
    "    return 20 * math.log10(PIXEL_MAX / math.sqrt(mse))\n",
    "#if not os.path.exists(result_dir):\n",
    " #   os.makedirs(result_dir)\n",
    "ImgNum = len(filepaths)\n",
    "PSNR_All = np.zeros([1, ImgNum], dtype=np.float32)\n",
    "SSIM_All = np.zeros([1, ImgNum], dtype=np.float32)\n",
    "Init_PSNR_All = np.zeros([1, ImgNum], dtype=np.float32)\n",
    "Init_SSIM_All = np.zeros([1, ImgNum], dtype=np.float32)\n",
    "print('Images loaded=:',ImgNum)"
   ]
  },
  {
   "cell_type": "code",
   "execution_count": 6,
   "metadata": {
    "colab": {
     "base_uri": "https://localhost:8080/",
     "height": 301
    },
    "executionInfo": {
     "elapsed": 1025,
     "status": "error",
     "timestamp": 1609846145197,
     "user": {
      "displayName": "W T",
      "photoUrl": "",
      "userId": "18193602041679892038"
     },
     "user_tz": -300
    },
    "id": "ARaTcYJRBdlv",
    "outputId": "3bbf3211-29ca-4bf7-9824-eb0a569e6968"
   },
   "outputs": [
    {
     "name": "stdout",
     "output_type": "stream",
     "text": [
      "\n",
      "\n",
      "MRI CS Reconstruction Start\n"
     ]
    },
    {
     "name": "stderr",
     "output_type": "stream",
     "text": [
      "/home/adnan/anaconda3/envs/myenv/lib/python3.7/site-packages/ipykernel_launcher.py:22: ComplexWarning: Casting complex values to real discards the imaginary part\n"
     ]
    },
    {
     "name": "stdout",
     "output_type": "stream",
     "text": [
      "[00/50]time for ./brain_images_istanet/brain_test_40.png is 4.0248, Proposed PSNR is 37.70, Proposed SSIM is 0.9387\n",
      "[01/50]time for ./brain_images_istanet/brain_test_49.png is 0.0128, Proposed PSNR is 31.17, Proposed SSIM is 0.8755\n",
      "[02/50]time for ./brain_images_istanet/brain_test_12.png is 0.0113, Proposed PSNR is 37.34, Proposed SSIM is 0.9526\n",
      "[03/50]time for ./brain_images_istanet/brain_test_03.png is 0.0110, Proposed PSNR is 34.17, Proposed SSIM is 0.9268\n",
      "[04/50]time for ./brain_images_istanet/brain_test_11.png is 0.0110, Proposed PSNR is 36.71, Proposed SSIM is 0.9488\n",
      "[05/50]time for ./brain_images_istanet/brain_test_43.png is 0.0111, Proposed PSNR is 36.95, Proposed SSIM is 0.9296\n",
      "[06/50]time for ./brain_images_istanet/brain_test_20.png is 0.0109, Proposed PSNR is 36.93, Proposed SSIM is 0.9396\n",
      "[07/50]time for ./brain_images_istanet/brain_test_47.png is 0.0112, Proposed PSNR is 30.93, Proposed SSIM is 0.8654\n",
      "[08/50]time for ./brain_images_istanet/brain_test_30.png is 0.0115, Proposed PSNR is 45.06, Proposed SSIM is 0.9795\n",
      "[09/50]time for ./brain_images_istanet/brain_test_38.png is 0.0117, Proposed PSNR is 36.84, Proposed SSIM is 0.9389\n",
      "[10/50]time for ./brain_images_istanet/brain_test_36.png is 0.0119, Proposed PSNR is 38.26, Proposed SSIM is 0.9510\n",
      "[11/50]time for ./brain_images_istanet/brain_test_06.png is 0.0110, Proposed PSNR is 37.30, Proposed SSIM is 0.9531\n",
      "[12/50]time for ./brain_images_istanet/brain_test_14.png is 0.0110, Proposed PSNR is 37.34, Proposed SSIM is 0.9507\n",
      "[13/50]time for ./brain_images_istanet/brain_test_17.png is 0.0109, Proposed PSNR is 35.74, Proposed SSIM is 0.9349\n",
      "[14/50]time for ./brain_images_istanet/brain_test_04.png is 0.0110, Proposed PSNR is 35.13, Proposed SSIM is 0.9344\n",
      "[15/50]time for ./brain_images_istanet/brain_test_50.png is 0.0110, Proposed PSNR is 31.58, Proposed SSIM is 0.8795\n",
      "[16/50]time for ./brain_images_istanet/brain_test_21.png is 0.0109, Proposed PSNR is 36.97, Proposed SSIM is 0.9309\n",
      "[17/50]time for ./brain_images_istanet/brain_test_32.png is 0.0114, Proposed PSNR is 43.66, Proposed SSIM is 0.9763\n",
      "[18/50]time for ./brain_images_istanet/brain_test_31.png is 0.0173, Proposed PSNR is 45.33, Proposed SSIM is 0.9810\n",
      "[19/50]time for ./brain_images_istanet/brain_test_16.png is 0.0109, Proposed PSNR is 37.34, Proposed SSIM is 0.9526\n",
      "[20/50]time for ./brain_images_istanet/brain_test_44.png is 0.0109, Proposed PSNR is 35.46, Proposed SSIM is 0.9153\n",
      "[21/50]time for ./brain_images_istanet/brain_test_28.png is 0.0109, Proposed PSNR is 46.30, Proposed SSIM is 0.9829\n",
      "[22/50]time for ./brain_images_istanet/brain_test_27.png is 0.0109, Proposed PSNR is 45.96, Proposed SSIM is 0.9807\n",
      "[23/50]time for ./brain_images_istanet/brain_test_39.png is 0.0107, Proposed PSNR is 37.61, Proposed SSIM is 0.9420\n",
      "[24/50]time for ./brain_images_istanet/brain_test_34.png is 0.0108, Proposed PSNR is 41.10, Proposed SSIM is 0.9679\n",
      "[25/50]time for ./brain_images_istanet/brain_test_07.png is 0.0118, Proposed PSNR is 36.04, Proposed SSIM is 0.9442\n",
      "[26/50]time for ./brain_images_istanet/brain_test_26.png is 0.0112, Proposed PSNR is 44.40, Proposed SSIM is 0.9739\n",
      "[27/50]time for ./brain_images_istanet/brain_test_08.png is 0.0109, Proposed PSNR is 36.30, Proposed SSIM is 0.9477\n",
      "[28/50]time for ./brain_images_istanet/brain_test_15.png is 0.0187, Proposed PSNR is 36.30, Proposed SSIM is 0.9457\n",
      "[29/50]time for ./brain_images_istanet/brain_test_10.png is 0.0110, Proposed PSNR is 36.85, Proposed SSIM is 0.9490\n",
      "[30/50]time for ./brain_images_istanet/brain_test_48.png is 0.0111, Proposed PSNR is 31.32, Proposed SSIM is 0.8743\n",
      "[31/50]time for ./brain_images_istanet/brain_test_24.png is 0.0108, Proposed PSNR is 38.73, Proposed SSIM is 0.9303\n",
      "[32/50]time for ./brain_images_istanet/brain_test_01.png is 0.0109, Proposed PSNR is 33.59, Proposed SSIM is 0.9232\n",
      "[33/50]time for ./brain_images_istanet/brain_test_05.png is 0.0131, Proposed PSNR is 36.30, Proposed SSIM is 0.9462\n",
      "[34/50]time for ./brain_images_istanet/brain_test_29.png is 0.0112, Proposed PSNR is 45.44, Proposed SSIM is 0.9807\n",
      "[35/50]time for ./brain_images_istanet/brain_test_45.png is 0.0115, Proposed PSNR is 33.90, Proposed SSIM is 0.8985\n",
      "[36/50]time for ./brain_images_istanet/brain_test_09.png is 0.0107, Proposed PSNR is 36.79, Proposed SSIM is 0.9493\n",
      "[37/50]time for ./brain_images_istanet/brain_test_42.png is 0.0108, Proposed PSNR is 37.81, Proposed SSIM is 0.9367\n",
      "[38/50]time for ./brain_images_istanet/brain_test_25.png is 0.0107, Proposed PSNR is 41.52, Proposed SSIM is 0.9474\n",
      "[39/50]time for ./brain_images_istanet/brain_test_33.png is 0.0114, Proposed PSNR is 42.52, Proposed SSIM is 0.9730\n",
      "[40/50]time for ./brain_images_istanet/brain_test_22.png is 0.0108, Proposed PSNR is 37.06, Proposed SSIM is 0.9242\n",
      "[41/50]time for ./brain_images_istanet/brain_test_46.png is 0.0123, Proposed PSNR is 32.11, Proposed SSIM is 0.8819\n",
      "[42/50]time for ./brain_images_istanet/brain_test_37.png is 0.0111, Proposed PSNR is 37.79, Proposed SSIM is 0.9464\n",
      "[43/50]time for ./brain_images_istanet/brain_test_35.png is 0.0281, Proposed PSNR is 39.68, Proposed SSIM is 0.9597\n",
      "[44/50]time for ./brain_images_istanet/brain_test_02.png is 0.0117, Proposed PSNR is 33.79, Proposed SSIM is 0.9222\n",
      "[45/50]time for ./brain_images_istanet/brain_test_19.png is 0.0108, Proposed PSNR is 35.66, Proposed SSIM is 0.9338\n",
      "[46/50]time for ./brain_images_istanet/brain_test_13.png is 0.0108, Proposed PSNR is 36.30, Proposed SSIM is 0.9432\n",
      "[47/50]time for ./brain_images_istanet/brain_test_18.png is 0.0109, Proposed PSNR is 35.36, Proposed SSIM is 0.9307\n",
      "[48/50]time for ./brain_images_istanet/brain_test_23.png is 0.0124, Proposed PSNR is 37.33, Proposed SSIM is 0.9255\n",
      "[49/50]time for ./brain_images_istanet/brain_test_41.png is 0.0113, Proposed PSNR is 37.58, Proposed SSIM is 0.9360\n",
      "\n",
      "\n",
      "CS ratio is 20, Avg Proposed PSNR/SSIM for brainMR_test is 37.59/0.9390, Epoch number of model is 50 \n",
      "\n",
      "Duration: 0:00:05.351617\n",
      "MRI CS Reconstruction End\n"
     ]
    }
   ],
   "source": [
    "print('\\n')\n",
    "print(\"MRI CS Reconstruction Start\")\n",
    "optimizer = torch.optim.Adam(model.parameters(), lr=learning_rate)\n",
    "start_time = datetime.now()\n",
    "with torch.no_grad():\n",
    "    for img_no in range(ImgNum):\n",
    "        imgName = filepaths[img_no]\n",
    "        Iorg = cv2.imread(imgName, 0)\n",
    "        Icol = Iorg.reshape(1, 1, 256, 256) / 255.0\n",
    "        Img_output = Icol\n",
    "        ### start timer\n",
    "        start = time()\n",
    "        batch_x = torch.from_numpy(Img_output)\n",
    "        batch_x = batch_x.type(torch.FloatTensor)\n",
    "        batch_x = batch_x.to(device)\n",
    "        PhiTb = FFT_Mask_ForBack()(batch_x, mask)\n",
    "        [x_output, loss_layers_sym] = model(PhiTb, mask)\n",
    "        end = time()\n",
    "        #end timer\n",
    "        initial_result = PhiTb.cpu().data.numpy().reshape(256, 256)\n",
    "        Prediction_value = x_output.cpu().data.numpy().reshape(256, 256)\n",
    "        X_init = np.clip(initial_result, 0, 1).astype(np.float64)\n",
    "        X_rec = np.clip(Prediction_value, 0, 1).astype(np.float64)\n",
    "        init_PSNR = psnr(X_init * 255, Iorg.astype(np.float64))\n",
    "        init_SSIM = ssim(X_init * 255, Iorg.astype(np.float64), data_range=255)\n",
    "        rec_PSNR = psnr(X_rec*255., Iorg.astype(np.float64))\n",
    "        rec_SSIM = ssim(X_rec*255., Iorg.astype(np.float64), data_range=255)\n",
    "        #print(\"[%02d/%02d]time for %s is %.4f, Initial  PSNR is %.2f, Initial  SSIM is %.4f\" % (img_no, ImgNum, imgName, (end - start), init_PSNR, init_SSIM))\n",
    "        print(\"[%02d/%02d]time for %s is %.4f, Proposed PSNR is %.2f, Proposed SSIM is %.4f\" % (img_no, ImgNum, imgName, (end - start), rec_PSNR, rec_SSIM))\n",
    "\n",
    "        im_rec_rgb = np.clip(X_rec*255, 0, 255).astype(np.uint8)\n",
    "        resultName = imgName.replace(data_dir, result_dir)\n",
    "        cv2.imwrite(\"%s_ISTA_Net_plus_ratio_%d_epoch_%d_PSNR_%.2f_SSIM_%.4f.bmp\" % (resultName, cs_ratio, epoch_num, rec_PSNR, rec_SSIM), im_rec_rgb)\n",
    "        del x_output\n",
    "\n",
    "        PSNR_All[0, img_no] = rec_PSNR\n",
    "        SSIM_All[0, img_no] = rec_SSIM\n",
    "\n",
    "        Init_PSNR_All[0, img_no] = init_PSNR\n",
    "        Init_SSIM_All[0, img_no] = init_SSIM\n",
    "\n",
    "print('\\n')\n",
    "init_data =   \"CS ratio is %d, Avg Initial  PSNR/SSIM for %s is %.2f/%.4f\" % (cs_ratio, test_name2, np.mean(Init_PSNR_All), np.mean(Init_SSIM_All))\n",
    "output_data = \"CS ratio is %d, Avg Proposed PSNR/SSIM for %s is %.2f/%.4f, Epoch number of model is %d \\n\" % (cs_ratio,test_name2, np.mean(PSNR_All), np.mean(SSIM_All), epoch_num)\n",
    "#print(init_data)\n",
    "print(output_data)\n",
    "output_file_name = \"./%s/PSNR_SSIM_Results_MRI_CS_ISTA_Net_plus_layer_%d_group_%d_ratio_%d.txt\" % (log_dir, layer_num, group_num, cs_ratio)\n",
    "output_file = open(output_file_name, 'a')\n",
    "output_file.write(output_data)\n",
    "output_file.close()\n",
    "end_time = datetime.now()\n",
    "print('Duration: {}'.format(end_time - start_time))\n",
    "print(\"MRI CS Reconstruction End\")"
   ]
  },
  {
   "cell_type": "code",
   "execution_count": null,
   "metadata": {},
   "outputs": [],
   "source": []
  }
 ],
 "metadata": {
  "accelerator": "GPU",
  "colab": {
   "collapsed_sections": [],
   "name": "mlista_test_brain_01_january.ipynb",
   "provenance": []
  },
  "kernelspec": {
   "display_name": "Python 3 (ipykernel)",
   "language": "python",
   "name": "python3"
  },
  "language_info": {
   "codemirror_mode": {
    "name": "ipython",
    "version": 3
   },
   "file_extension": ".py",
   "mimetype": "text/x-python",
   "name": "python",
   "nbconvert_exporter": "python",
   "pygments_lexer": "ipython3",
   "version": "3.7.13"
  }
 },
 "nbformat": 4,
 "nbformat_minor": 4
}
