{
 "cells": [
  {
   "cell_type": "code",
   "execution_count": 3,
   "metadata": {
    "colab": {},
    "colab_type": "code",
    "id": "II3xqvnL0Ykk"
   },
   "outputs": [],
   "source": [
    "import torch\n",
    "import torch.nn as nn\n",
    "import torch.nn.functional as F\n",
    "import scipy.io as sio\n",
    "import numpy as np\n",
    "import os\n",
    "import glob\n",
    "from time import time\n",
    "import math\n",
    "from torch.nn import init\n",
    "import copy\n",
    "import cv2\n",
    "from skimage.metrics import structural_similarity as ssim\n",
    "#Time module\n",
    "from datetime import datetime\n",
    "import os "
   ]
  },
  {
   "cell_type": "markdown",
   "metadata": {
    "colab_type": "text",
    "id": "myiaJwrZovwL"
   },
   "source": [
    "## Input parameters"
   ]
  },
  {
   "cell_type": "code",
   "execution_count": 24,
   "metadata": {
    "colab": {},
    "colab_type": "code",
    "id": "aUnSrNFX5gTX"
   },
   "outputs": [],
   "source": [
    "cs_ratio =50\n",
    "epoch_num = 13\n",
    "learning_rate =1e-4\n",
    "##############\n",
    "layer_num = 9\n",
    "group_num =1\n",
    "###define mask\n",
    "mask_dir='mask_dir'\n",
    "mask_type='q1'      #q1 for DLMRi and od for outer dense"
   ]
  },
  {
   "cell_type": "code",
   "execution_count": 25,
   "metadata": {
    "colab": {},
    "colab_type": "code",
    "id": "YjwOVOoy0-iG"
   },
   "outputs": [],
   "source": [
    "gpu_list = '0'\n",
    "img_size =256\n",
    "########\n",
    "os.environ[\"CUDA_DEVICE_ORDER\"] = \"PCI_BUS_ID\"\n",
    "os.environ[\"CUDA_VISIBLE_DEVICES\"] = gpu_list\n",
    "device = torch.device(\"cuda:0\" if torch.cuda.is_available() else \"cpu\")\n",
    "# Load CS Sampling Matrix: phi\n",
    "Phi_data_Name = './%s/rand_%s_%d.mat'  %(mask_dir,mask_type,cs_ratio)\n",
    "Phi_data = sio.loadmat(Phi_data_Name)\n",
    "mask_matrix = Phi_data['mask_matrix']\n",
    "mask_matrix = torch.from_numpy(mask_matrix).type(torch.FloatTensor)\n",
    "mask = torch.unsqueeze(mask_matrix, 2)\n",
    "mask = torch.cat([mask, mask], 2)\n",
    "mask = mask.to(device)"
   ]
  },
  {
   "cell_type": "code",
   "execution_count": 26,
   "metadata": {
    "colab": {},
    "colab_type": "code",
    "id": "Axr7si-s2tFO"
   },
   "outputs": [],
   "source": [
    "class FFT_Mask_ForBack(torch.nn.Module):\n",
    "    def __init__(self):\n",
    "        super(FFT_Mask_ForBack, self).__init__()\n",
    "    def forward(self, x, mask):\n",
    "        x_dim_0 = x.shape[0]\n",
    "        x_dim_1 = x.shape[1]\n",
    "        x_dim_2 = x.shape[2]\n",
    "        x_dim_3 = x.shape[3]\n",
    "        x = x.view(-1, x_dim_2, x_dim_3, 1)\n",
    "        y = torch.zeros_like(x)\n",
    "        z = torch.cat([x, y], 3)\n",
    "        fftz = torch.fft(z, 2)#take 2 D FFT\n",
    "        z_hat = torch.ifft(fftz * mask, 2)#multiply with mask and then take INVERS FFT\n",
    "        x = z_hat[:, :, :, 0:1]\n",
    "        x = x.view(x_dim_0, x_dim_1, x_dim_2, x_dim_3)\n",
    "        return x\n",
    "# Define ISTA-Net-plus Block\n",
    "class BasicBlock(torch.nn.Module):\n",
    "    def __init__(self):\n",
    "        super(BasicBlock, self).__init__()\n",
    "        self.lambda_step = nn.Parameter(torch.Tensor([0.5]))\n",
    "        self.soft_thr = nn.Parameter(torch.Tensor([0.01]))\n",
    "        ################\n",
    "        self.W1 = nn.Parameter(init.xavier_normal_(torch.Tensor(32, 1, 3, 3)))\n",
    "        self.conv1_forward = nn.Parameter(init.xavier_normal_(torch.Tensor(32, 32, 3, 3)))\n",
    "        self.conv2_forward = nn.Parameter(init.xavier_normal_(torch.Tensor(32, 32, 3, 3)))\n",
    "        self.conv1_backward = nn.Parameter(init.xavier_normal_(torch.Tensor(32, 32, 3, 3)))\n",
    "        self.conv2_backward = nn.Parameter(init.xavier_normal_(torch.Tensor(32, 32, 3, 3)))\n",
    "        self.conv_G = nn.Parameter(init.xavier_normal_(torch.Tensor(1, 32, 3, 3)))\n",
    "\n",
    "        self.c1 = nn.Parameter(torch.ones(1,1,1,1), requires_grad=True)\n",
    "        self.c2 = nn.Parameter(torch.ones(1,1,1,1), requires_grad=True)\n",
    "        self.c3 = nn.Parameter(torch.ones(1,1,1,1), requires_grad=True)        \n",
    "        self.b1 = nn.Parameter(torch.zeros(1,32,1,1), requires_grad=True)\n",
    "        self.b2 = nn.Parameter(torch.zeros(1,32,1,1), requires_grad=True)\n",
    "        self.b3 = nn.Parameter(torch.zeros(1,32,1,1), requires_grad=True)\n",
    "    def forward(self, x, fft_forback, PhiTb, mask):\n",
    "        x = x - self.lambda_step * fft_forback(x, mask)\n",
    "        x = x + self.lambda_step * PhiTb\n",
    "        x_input = x\n",
    "        gamma1 = F.conv2d(x_input, self.W1, padding=1)\n",
    "        gamma2 = self.c1*F.conv2d(gamma1, self.conv1_forward, padding=1)+self.b1\n",
    "        gamma2 = F.relu(gamma2)\n",
    "        gamma3 = F.conv2d(gamma2, self.conv2_forward, padding=1)\n",
    "        for _ in  range(1):            \n",
    "            # backward computation\n",
    "            gamma2 = F.conv_transpose2d(gamma3,self.conv2_forward,padding = 1)\n",
    "            gamma1 = F.conv_transpose2d(gamma2,self.conv1_forward,padding = 1)            \n",
    "            # forward computation\n",
    "            gamma1 = F.relu( (gamma1 - self.c1 * F.conv2d( F.conv_transpose2d(gamma1,self.W1,padding=1) - x ,self.W1,padding=1)) + self.b1)\n",
    "            gamma2 = F.relu( (gamma2 - self.c2 * F.conv2d( F.conv_transpose2d(gamma2,self.conv1_forward,padding=1) - gamma1, self.conv1_forward,padding=1)) + self.b2) \n",
    "            gamma3 = F.relu( (gamma3 - self.c3 * F.conv2d( F.conv_transpose2d(gamma3,self.conv2_forward,padding=1) - gamma2, self.conv2_forward,padding=1)) + self.b3) \n",
    "        gammaE = torch.mul(torch.sign(gamma3), F.relu(torch.abs(gamma3) - self.soft_thr))\n",
    "        gamma4 = F.conv2d(gammaE, self.conv1_backward, padding=1)\n",
    "        gamma4 = F.relu(gamma4)\n",
    "        gamma5 = F.conv2d(gamma4, self.conv2_backward, padding=1)\n",
    "        gamma6 = F.conv2d(gamma5, self.conv_G, padding=1)\n",
    "        x_pred = x_input + gamma6\n",
    "        x = F.conv2d(gamma3, self.conv1_backward, padding=1)\n",
    "        x = F.relu(x)\n",
    "        x_D_est = F.conv2d(x, self.conv2_backward, padding=1)\n",
    "        symloss = x_D_est - gamma1\n",
    "        return [x_pred, symloss]\n",
    "        #############\n",
    "# Define ISTA-Net-plus\n",
    "class ISTANetplus(torch.nn.Module):\n",
    "    def __init__(self, LayerNo):\n",
    "        super(ISTANetplus, self).__init__()\n",
    "        onelayer = []\n",
    "        self.LayerNo = LayerNo\n",
    "        self.fft_forback = FFT_Mask_ForBack()\n",
    "        for i in range(LayerNo):\n",
    "            onelayer.append(BasicBlock())\n",
    "        self.fcs = nn.ModuleList(onelayer)\n",
    "    def forward(self, PhiTb, mask):\n",
    "        x = PhiTb\n",
    "        layers_sym = []   # for computing symmetric loss\n",
    "        for i in range(self.LayerNo):\n",
    "            [x, layer_sym] = self.fcs[i](x, self.fft_forback, PhiTb, mask)\n",
    "            layers_sym.append(layer_sym)\n",
    "        x_final = x\n",
    "        return [x_final, layers_sym]\n",
    "model = ISTANetplus(layer_num)\n",
    "model = nn.DataParallel(model)\n",
    "model = model.to(device)"
   ]
  },
  {
   "cell_type": "code",
   "execution_count": 27,
   "metadata": {},
   "outputs": [
    {
     "data": {
      "text/plain": [
       "'d:\\\\python_dir\\\\knee_csmri'"
      ]
     },
     "execution_count": 27,
     "metadata": {},
     "output_type": "execute_result"
    }
   ],
   "source": [
    "pwd"
   ]
  },
  {
   "cell_type": "markdown",
   "metadata": {
    "colab_type": "text",
    "id": "iyqJE057Wujj"
   },
   "source": [
    "Define file locations"
   ]
  },
  {
   "cell_type": "code",
   "execution_count": 28,
   "metadata": {
    "colab": {
     "base_uri": "https://localhost:8080/",
     "height": 35
    },
    "colab_type": "code",
    "executionInfo": {
     "elapsed": 1251,
     "status": "ok",
     "timestamp": 1593407749001,
     "user": {
      "displayName": "W T",
      "photoUrl": "",
      "userId": "18193602041679892038"
     },
     "user_tz": -300
    },
    "id": "I6nLlWgeWoKC",
    "outputId": "5901fa7a-b330-491c-c39b-7be7cdfbd05f"
   },
   "outputs": [
    {
     "name": "stdout",
     "output_type": "stream",
     "text": [
      "Images loaded=: 22\n"
     ]
    }
   ],
   "source": [
    "model_dir='model_dir_knee'\n",
    "log_dir='log_dir_knee'\n",
    "data_dir = './test_data/knee_test_256'\n",
    "result_dir = './result_dir_knee'\n",
    "test_name1 = 'brainMR_test'\n",
    "test_name2 = 'kneeMR_test'\n",
    "#test_dir = os.path.join(data_dir, test_name)\n",
    "###Image types\n",
    "filepaths = glob.glob(data_dir + '/*.jpg')\n",
    "#result_dir = os.path.join(result_dir, test_name2)\n",
    "model_dir = \"./%s/MRI_CS_ISTA_Net_plus_layer_%d_group_%d_ratio_%d\" % (model_dir, layer_num, group_num, cs_ratio)\n",
    "# Load pre-trained model with epoch number\n",
    "model.load_state_dict(torch.load('%s/net_params_%d.pkl' % (model_dir, epoch_num)))\n",
    "def psnr(img1, img2):\n",
    "    img1.astype(np.float32)\n",
    "    img2.astype(np.float32)\n",
    "    mse = np.mean((img1 - img2) ** 2)\n",
    "    if mse == 0:\n",
    "        return 100\n",
    "    PIXEL_MAX = 255.0\n",
    "    return 20 * math.log10(PIXEL_MAX / math.sqrt(mse))\n",
    "#if not os.path.exists(result_dir):\n",
    " #   os.makedirs(result_dir)\n",
    "ImgNum = len(filepaths)\n",
    "PSNR_All = np.zeros([1, ImgNum], dtype=np.float32)\n",
    "SSIM_All = np.zeros([1, ImgNum], dtype=np.float32)\n",
    "Init_PSNR_All = np.zeros([1, ImgNum], dtype=np.float32)\n",
    "Init_SSIM_All = np.zeros([1, ImgNum], dtype=np.float32)\n",
    "print('Images loaded=:',ImgNum)"
   ]
  },
  {
   "cell_type": "code",
   "execution_count": 29,
   "metadata": {
    "colab": {
     "base_uri": "https://localhost:8080/",
     "height": 589
    },
    "colab_type": "code",
    "executionInfo": {
     "elapsed": 5990,
     "status": "ok",
     "timestamp": 1593407758890,
     "user": {
      "displayName": "W T",
      "photoUrl": "",
      "userId": "18193602041679892038"
     },
     "user_tz": -300
    },
    "id": "ARaTcYJRBdlv",
    "outputId": "045e6641-f9e9-4360-c275-d888a4a84189"
   },
   "outputs": [
    {
     "name": "stdout",
     "output_type": "stream",
     "text": [
      "\n",
      "\n",
      "MRI CS Reconstruction Start\n",
      "[00/22]time for ./test_data/knee_test_256\\c122.jpg is 0.0209, Proposed PSNR is 44.19, Proposed SSIM is 0.9844\n",
      "[01/22]time for ./test_data/knee_test_256\\c136.jpg is 0.0209, Proposed PSNR is 43.89, Proposed SSIM is 0.9837\n",
      "[02/22]time for ./test_data/knee_test_256\\c168.jpg is 0.0209, Proposed PSNR is 42.79, Proposed SSIM is 0.9817\n",
      "[03/22]time for ./test_data/knee_test_256\\c176.jpg is 0.0209, Proposed PSNR is 40.82, Proposed SSIM is 0.9756\n",
      "[04/22]time for ./test_data/knee_test_256\\c178.jpg is 0.0219, Proposed PSNR is 43.63, Proposed SSIM is 0.9820\n",
      "[05/22]time for ./test_data/knee_test_256\\c180.jpg is 0.0219, Proposed PSNR is 43.63, Proposed SSIM is 0.9820\n",
      "[06/22]time for ./test_data/knee_test_256\\c183.jpg is 0.0219, Proposed PSNR is 43.46, Proposed SSIM is 0.9828\n",
      "[07/22]time for ./test_data/knee_test_256\\c196.jpg is 0.0229, Proposed PSNR is 43.56, Proposed SSIM is 0.9814\n",
      "[08/22]time for ./test_data/knee_test_256\\n110.jpg is 0.0229, Proposed PSNR is 43.41, Proposed SSIM is 0.9843\n",
      "[09/22]time for ./test_data/knee_test_256\\n129.jpg is 0.0219, Proposed PSNR is 43.07, Proposed SSIM is 0.9810\n",
      "[10/22]time for ./test_data/knee_test_256\\n13.jpg is 0.0249, Proposed PSNR is 44.00, Proposed SSIM is 0.9835\n",
      "[11/22]time for ./test_data/knee_test_256\\n135.jpg is 0.0229, Proposed PSNR is 43.27, Proposed SSIM is 0.9814\n",
      "[12/22]time for ./test_data/knee_test_256\\n14.jpg is 0.0229, Proposed PSNR is 43.02, Proposed SSIM is 0.9810\n",
      "[13/22]time for ./test_data/knee_test_256\\n142.jpg is 0.0219, Proposed PSNR is 43.17, Proposed SSIM is 0.9822\n",
      "[14/22]time for ./test_data/knee_test_256\\n15.jpg is 0.0219, Proposed PSNR is 43.39, Proposed SSIM is 0.9838\n",
      "[15/22]time for ./test_data/knee_test_256\\n151.jpg is 0.0219, Proposed PSNR is 43.72, Proposed SSIM is 0.9833\n",
      "[16/22]time for ./test_data/knee_test_256\\n56.jpg is 0.0229, Proposed PSNR is 42.95, Proposed SSIM is 0.9814\n",
      "[17/22]time for ./test_data/knee_test_256\\n65.jpg is 0.0239, Proposed PSNR is 43.10, Proposed SSIM is 0.9806\n",
      "[18/22]time for ./test_data/knee_test_256\\n73.jpg is 0.0229, Proposed PSNR is 44.61, Proposed SSIM is 0.9848\n",
      "[19/22]time for ./test_data/knee_test_256\\p133.jpg is 0.0239, Proposed PSNR is 43.05, Proposed SSIM is 0.9806\n",
      "[20/22]time for ./test_data/knee_test_256\\p142.jpg is 0.0229, Proposed PSNR is 45.18, Proposed SSIM is 0.9868\n",
      "[21/22]time for ./test_data/knee_test_256\\p180.jpg is 0.0229, Proposed PSNR is 43.81, Proposed SSIM is 0.9847\n",
      "\n",
      "\n",
      "CS ratio is 50, Avg Initial  PSNR/SSIM for brainMR_test is 30.85/0.8835\n",
      "CS ratio is 50, Avg Proposed PSNR/SSIM for brainMR_test is 43.44/0.9824, Epoch number of model is 13 \n",
      "\n",
      "Duration: 0:00:00.910565\n",
      "MRI CS Reconstruction End\n"
     ]
    }
   ],
   "source": [
    "print('\\n')\n",
    "print(\"MRI CS Reconstruction Start\")\n",
    "optimizer = torch.optim.Adam(model.parameters(), lr=learning_rate)\n",
    "start_time = datetime.now()\n",
    "with torch.no_grad():\n",
    "    for img_no in range(ImgNum):\n",
    "        imgName = filepaths[img_no]\n",
    "        Iorg = cv2.imread(imgName, 0)\n",
    "        Icol = Iorg.reshape(1, 1, 256, 256) / 255.0\n",
    "        Img_output = Icol\n",
    "        ### start timer\n",
    "        start = time()\n",
    "        batch_x = torch.from_numpy(Img_output)\n",
    "        batch_x = batch_x.type(torch.FloatTensor)\n",
    "        batch_x = batch_x.to(device)\n",
    "        PhiTb = FFT_Mask_ForBack()(batch_x, mask)\n",
    "        [x_output, loss_layers_sym] = model(PhiTb, mask)\n",
    "        end = time()\n",
    "        #end timer\n",
    "        initial_result = PhiTb.cpu().data.numpy().reshape(256, 256)\n",
    "        Prediction_value = x_output.cpu().data.numpy().reshape(256, 256)\n",
    "        X_init = np.clip(initial_result, 0, 1).astype(np.float64)\n",
    "        X_rec = np.clip(Prediction_value, 0, 1).astype(np.float64)\n",
    "        init_PSNR = psnr(X_init * 255, Iorg.astype(np.float64))\n",
    "        init_SSIM = ssim(X_init * 255, Iorg.astype(np.float64), data_range=255)\n",
    "        rec_PSNR = psnr(X_rec*255., Iorg.astype(np.float64))\n",
    "        rec_SSIM = ssim(X_rec*255., Iorg.astype(np.float64), data_range=255)\n",
    "        #print(\"[%02d/%02d]time for %s is %.4f, Initial  PSNR is %.2f, Initial  SSIM is %.4f\" % (img_no, ImgNum, imgName, (end - start), init_PSNR, init_SSIM))\n",
    "        print(\"[%02d/%02d]time for %s is %.4f, Proposed PSNR is %.2f, Proposed SSIM is %.4f\" % (img_no, ImgNum, imgName, (end - start), rec_PSNR, rec_SSIM))\n",
    "        im_rec_rgb = np.clip(X_rec*255, 0, 255).astype(np.uint8)\n",
    "        resultName = imgName.replace(data_dir, result_dir)\n",
    "        cv2.imwrite(\"%s_ISTA_Net_plus_ratio_%d_epoch_%d_PSNR_%.2f_SSIM_%.4f.bmp\" % (resultName, cs_ratio, epoch_num, rec_PSNR, rec_SSIM), im_rec_rgb)\n",
    "        del x_output\n",
    "\n",
    "        PSNR_All[0, img_no] = rec_PSNR\n",
    "        SSIM_All[0, img_no] = rec_SSIM\n",
    "\n",
    "        Init_PSNR_All[0, img_no] = init_PSNR\n",
    "        Init_SSIM_All[0, img_no] = init_SSIM\n",
    "end_time = datetime.now()\n",
    "print('\\n')\n",
    "init_data =   \"CS ratio is %d, Avg Initial  PSNR/SSIM for %s is %.2f/%.4f\" % (cs_ratio, test_name1, np.mean(Init_PSNR_All), np.mean(Init_SSIM_All))\n",
    "output_data = \"CS ratio is %d, Avg Proposed PSNR/SSIM for %s is %.2f/%.4f, Epoch number of model is %d \\n\" % (cs_ratio,test_name1, np.mean(PSNR_All), np.mean(SSIM_All), epoch_num)\n",
    "print(init_data)\n",
    "print(output_data)\n",
    "output_file_name = \"./%s/PSNR_SSIM_Results_MRI_CS_ISTA_Net_plus_layer_%d_group_%d_ratio_%d.txt\" % (log_dir, layer_num, group_num, cs_ratio)\n",
    "output_file = open(output_file_name, 'a')\n",
    "output_file.write(output_data)\n",
    "output_file.close()\n",
    "end_time = datetime.now()\n",
    "print('Duration: {}'.format(end_time - start_time))\n",
    "print(\"MRI CS Reconstruction End\")"
   ]
  },
  {
   "cell_type": "markdown",
   "metadata": {
    "colab_type": "text",
    "id": "8LhDelNt8Y5Z"
   },
   "source": [
    "## text save"
   ]
  },
  {
   "cell_type": "code",
   "execution_count": null,
   "metadata": {
    "colab": {
     "base_uri": "https://localhost:8080/",
     "height": 517
    },
    "colab_type": "code",
    "executionInfo": {
     "elapsed": 12496,
     "status": "ok",
     "timestamp": 1593407169960,
     "user": {
      "displayName": "W T",
      "photoUrl": "",
      "userId": "18193602041679892038"
     },
     "user_tz": -300
    },
    "id": "eSFDb_Vt8i7y",
    "outputId": "040758af-9d8b-4451-a597-46aaf5a71f5c"
   },
   "outputs": [
    {
     "name": "stdout",
     "output_type": "stream",
     "text": [
      "\n",
      "\n",
      "MRI CS Reconstruction Start\n",
      "[00/22] recons. time for knee_test_256/c168.jpg is, 0.0232, Proposed PSNR is, 36.39,Proposed SSIM is, 0.9262\n",
      "[01/22] recons. time for knee_test_256/c122.jpg is, 0.0220, Proposed PSNR is, 37.62,Proposed SSIM is, 0.9365\n",
      "[02/22] recons. time for knee_test_256/c136.jpg is, 0.0223, Proposed PSNR is, 38.08,Proposed SSIM is, 0.9358\n",
      "[03/22] recons. time for knee_test_256/c183.jpg is, 0.0265, Proposed PSNR is, 36.80,Proposed SSIM is, 0.9273\n",
      "[04/22] recons. time for knee_test_256/c180.jpg is, 0.0248, Proposed PSNR is, 37.15,Proposed SSIM is, 0.9255\n",
      "[05/22] recons. time for knee_test_256/c176.jpg is, 0.0243, Proposed PSNR is, 34.37,Proposed SSIM is, 0.8945\n",
      "[06/22] recons. time for knee_test_256/c178.jpg is, 0.0259, Proposed PSNR is, 37.15,Proposed SSIM is, 0.9255\n",
      "[07/22] recons. time for knee_test_256/c196.jpg is, 0.0215, Proposed PSNR is, 37.32,Proposed SSIM is, 0.9246\n",
      "[08/22] recons. time for knee_test_256/n142.jpg is, 0.0311, Proposed PSNR is, 36.12,Proposed SSIM is, 0.9188\n",
      "[09/22] recons. time for knee_test_256/n15.jpg is, 0.0229, Proposed PSNR is, 37.36,Proposed SSIM is, 0.9329\n",
      "[10/22] recons. time for knee_test_256/n110.jpg is, 0.0271, Proposed PSNR is, 37.62,Proposed SSIM is, 0.9367\n",
      "[11/22] recons. time for knee_test_256/n135.jpg is, 0.0215, Proposed PSNR is, 36.82,Proposed SSIM is, 0.9232\n",
      "[12/22] recons. time for knee_test_256/n151.jpg is, 0.0217, Proposed PSNR is, 36.47,Proposed SSIM is, 0.9256\n",
      "[13/22] recons. time for knee_test_256/n129.jpg is, 0.0220, Proposed PSNR is, 36.22,Proposed SSIM is, 0.9170\n",
      "[14/22] recons. time for knee_test_256/n13.jpg is, 0.0217, Proposed PSNR is, 37.80,Proposed SSIM is, 0.9347\n",
      "[15/22] recons. time for knee_test_256/n14.jpg is, 0.0220, Proposed PSNR is, 36.41,Proposed SSIM is, 0.9195\n",
      "[16/22] recons. time for knee_test_256/n56.jpg is, 0.0214, Proposed PSNR is, 36.36,Proposed SSIM is, 0.9193\n",
      "[17/22] recons. time for knee_test_256/p133.jpg is, 0.0218, Proposed PSNR is, 36.64,Proposed SSIM is, 0.9212\n",
      "[18/22] recons. time for knee_test_256/n73.jpg is, 0.0293, Proposed PSNR is, 37.27,Proposed SSIM is, 0.9344\n",
      "[19/22] recons. time for knee_test_256/n65.jpg is, 0.0215, Proposed PSNR is, 36.87,Proposed SSIM is, 0.9216\n",
      "[20/22] recons. time for knee_test_256/p180.jpg is, 0.0276, Proposed PSNR is, 37.46,Proposed SSIM is, 0.9346\n",
      "[21/22] recons. time for knee_test_256/p142.jpg is, 0.0337, Proposed PSNR is, 38.16,Proposed SSIM is, 0.9411\n",
      "\n",
      "\n",
      "MRI CS Reconstruction End\n"
     ]
    }
   ],
   "source": [
    "print('\\n')\n",
    "result_dir='result_dir'\n",
    "print(\"MRI CS Reconstruction Start\")\n",
    "optimizer = torch.optim.Adam(model.parameters(), lr=learning_rate)\n",
    "start_time = datetime.now()\n",
    "with torch.no_grad():\n",
    "    for img_no in range(ImgNum):\n",
    "        imgName = filepaths[img_no]\n",
    "        Iorg = cv2.imread(imgName, 0)\n",
    "        Icol = Iorg.reshape(1, 1, 256, 256) / 255.0\n",
    "        Img_output = Icol\n",
    "        ### start timer\n",
    "        start = time()\n",
    "        batch_x = torch.from_numpy(Img_output)\n",
    "        batch_x = batch_x.type(torch.FloatTensor)\n",
    "        batch_x = batch_x.to(device)\n",
    "        PhiTb = FFT_Mask_ForBack()(batch_x, mask)\n",
    "        [x_output, loss_layers_sym] = model(PhiTb, mask)\n",
    "        end = time()\n",
    "        #end timer\n",
    "        initial_result = PhiTb.cpu().data.numpy().reshape(256, 256)\n",
    "        Prediction_value = x_output.cpu().data.numpy().reshape(256, 256)\n",
    "        X_init = np.clip(initial_result, 0, 1).astype(np.float64)\n",
    "        X_rec = np.clip(Prediction_value, 0, 1).astype(np.float64)\n",
    "        init_PSNR = psnr(X_init * 255, Iorg.astype(np.float64))\n",
    "        init_SSIM = ssim(X_init * 255, Iorg.astype(np.float64), data_range=255)\n",
    "        rec_PSNR = psnr(X_rec*255., Iorg.astype(np.float64))\n",
    "        rec_SSIM = ssim(X_rec*255., Iorg.astype(np.float64), data_range=255)\n",
    "        print(\"[%02d/%02d] recons. time for %s is, %.4f, Proposed PSNR is, %.2f,Proposed SSIM is, %.4f\" % (img_no, ImgNum, imgName, (end - start), rec_PSNR, rec_SSIM))\n",
    "        #save log\n",
    "        output_data = \"%.2f, \\n\" % (rec_PSNR)\n",
    "        output_data2 = \"%.4f, \\n\" % (rec_SSIM)\n",
    "        output_file_name = \"./%s/psnr_knee_%d.txt\" % (log_dir, cs_ratio)\n",
    "        output_file_name2 = \"./%s/ssim_knee_%d.txt\" % (log_dir, cs_ratio)\n",
    "        output_file = open(output_file_name, 'a')\n",
    "        output_file2 = open(output_file_name2, 'a')\n",
    "        output_file.write(output_data)\n",
    "        output_file2.write(output_data2)\n",
    "        output_file.close() \n",
    "        output_file2.close()\n",
    "        ##       \n",
    "        im_rec_rgb = np.clip(X_rec*255, 0, 255).astype(np.uint8)\n",
    "        resultName = imgName.replace(data_dir, result_dir)\n",
    "        cv2.imwrite(\"%s_ISTA_Net_plus_ratio_%d_epoch_%d_PSNR_%.2f_SSIM_%.4f.bmp\" % (resultName, cs_ratio, epoch_num, rec_PSNR, rec_SSIM), im_rec_rgb)\n",
    "        del x_output\n",
    "        PSNR_All[0, img_no] = rec_PSNR\n",
    "        SSIM_All[0, img_no] = rec_SSIM\n",
    "\n",
    "        Init_PSNR_All[0, img_no] = init_PSNR\n",
    "        Init_SSIM_All[0, img_no] = init_SSIM\n",
    "print('\\n')\n",
    "print(\"MRI CS Reconstruction End\")"
   ]
  }
 ],
 "metadata": {
  "accelerator": "GPU",
  "colab": {
   "collapsed_sections": [],
   "name": "2.2-KNEE_test_22_june.ipynb",
   "provenance": []
  },
  "kernelspec": {
   "display_name": "Python 3 (ipykernel)",
   "language": "python",
   "name": "python3"
  },
  "language_info": {
   "codemirror_mode": {
    "name": "ipython",
    "version": 3
   },
   "file_extension": ".py",
   "mimetype": "text/x-python",
   "name": "python",
   "nbconvert_exporter": "python",
   "pygments_lexer": "ipython3",
   "version": "3.9.7"
  }
 },
 "nbformat": 4,
 "nbformat_minor": 1
}
